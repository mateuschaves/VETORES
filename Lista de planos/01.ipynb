{
 "cells": [
  {
   "cell_type": "markdown",
   "metadata": {},
   "source": [
    "<b>Determine a interseção da reta $r$ com o plano $\\pi$</b>"
   ]
  },
  {
   "cell_type": "markdown",
   "metadata": {},
   "source": [
    "$r: x = 5 - 2t \\\\ \\,\\,\\,\\,\\,\\,\\, y = 1 + 3t \\,\\,\\,\\,\\,\\,\\,\\, \\\\ \\,\\,\\,\\,\\,\\,\\, z = -2 + t$"
   ]
  },
  {
   "cell_type": "markdown",
   "metadata": {},
   "source": [
    "$\\pi: 3x - y + 6z = 4$"
   ]
  },
  {
   "cell_type": "markdown",
   "metadata": {},
   "source": [
    "<b>Substituir $x, y$ e $z$ na equação do plano $\\pi$</b>"
   ]
  },
  {
   "cell_type": "markdown",
   "metadata": {},
   "source": [
    "$3(5 - 2t) - (1 + 3t) + 6(-2 + t) - 4 = 0$"
   ]
  },
  {
   "cell_type": "markdown",
   "metadata": {},
   "source": [
    "$15 - 6t -1 - 3t - 12 + 6t - 4 = 0$"
   ]
  },
  {
   "cell_type": "markdown",
   "metadata": {},
   "source": [
    "$-3t - 2 = 0 $"
   ]
  },
  {
   "cell_type": "markdown",
   "metadata": {},
   "source": [
    "$t = - \\frac{2}{3}$"
   ]
  },
  {
   "cell_type": "markdown",
   "metadata": {},
   "source": [
    "<b>Substituir $t = - \\frac{2}{3}$ nas equações paramétricas para achar $x, y$ e $z$</b>"
   ]
  },
  {
   "cell_type": "markdown",
   "metadata": {},
   "source": [
    "$x = 5 - 2(-\\frac{2}{3}) \\,\\,\\,\\,\\,\\,\\,\\,\\,\\, \\rightarrow \\,\\,\\,\\,\\,\\,\\,\\,\\,\\, \\frac{19}{3}$"
   ]
  },
  {
   "cell_type": "markdown",
   "metadata": {},
   "source": [
    "$y = 1 + 3(-\\frac{2}{3}) \\,\\,\\,\\,\\,\\,\\,\\,\\,\\, \\rightarrow \\,\\,\\,\\,\\,\\,\\,\\,\\,\\,  -1$"
   ]
  },
  {
   "cell_type": "markdown",
   "metadata": {},
   "source": [
    "$z = -2 - \\frac{2}{3} \\,\\,\\,\\,\\,\\,\\,\\,\\,\\, \\rightarrow \\,\\,\\,\\,\\,\\,\\,\\,\\,\\, -\\frac{8}{3}$"
   ]
  },
  {
   "cell_type": "markdown",
   "metadata": {},
   "source": [
    "$P(\\frac{19}{3}, -1, -\\frac{8}{3})$"
   ]
  }
 ],
 "metadata": {
  "kernelspec": {
   "display_name": "Python 3",
   "language": "python",
   "name": "python3"
  },
  "language_info": {
   "codemirror_mode": {
    "name": "ipython",
    "version": 3
   },
   "file_extension": ".py",
   "mimetype": "text/x-python",
   "name": "python",
   "nbconvert_exporter": "python",
   "pygments_lexer": "ipython3",
   "version": "3.6.5"
  }
 },
 "nbformat": 4,
 "nbformat_minor": 2
}
