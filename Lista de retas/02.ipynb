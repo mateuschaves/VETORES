{
 "cells": [
  {
   "cell_type": "markdown",
   "metadata": {},
   "source": [
    "<b>Se a reta que passa pelos pontos $A(-2,5,1)$, $B(1,3,0)$ é paralela à reta determinada por $C(3,-1,-1)$, $D(0,m,n)$, podemos afirmar que os valores de $m$ e $n$ são, respectivamente: </b>"
   ]
  },
  {
   "cell_type": "markdown",
   "metadata": {},
   "source": [
    "<b>Se as retas são pararalelas, elas possuem o mesmo vetor $\\vec{AB}$</b>"
   ]
  },
  {
   "cell_type": "markdown",
   "metadata": {},
   "source": [
    "$\\vec {AB} = B - A$"
   ]
  },
  {
   "cell_type": "markdown",
   "metadata": {},
   "source": [
    "$\\vec{AB}(1,3,0) - (-2, 5, 1)$<br><br>\n",
    "$\\vec{AB}(1+2, 3-5, 0 -1)$<br><br>\n",
    "$\\vec{AB}(3, -2, -1)$"
   ]
  },
  {
   "cell_type": "markdown",
   "metadata": {},
   "source": [
    "<b>Equação vetorial da reta que passa pelos pontos $A(-2,5,1)$, $B(1,3,0)$ </b>"
   ]
  },
  {
   "cell_type": "markdown",
   "metadata": {},
   "source": [
    "$(-2,5,1) = (1, 3, 0) + t(3,-2,-1)$"
   ]
  },
  {
   "cell_type": "markdown",
   "metadata": {},
   "source": [
    "<b>Equação vetorial da reta que passa pelos pontos $C(3,-1,-1)$, $D(0,m,n)$ </b>"
   ]
  },
  {
   "cell_type": "markdown",
   "metadata": {},
   "source": [
    "$(3, -1, -1) = (0, m, n) + t(3, -2, -1)$"
   ]
  },
  {
   "cell_type": "markdown",
   "metadata": {},
   "source": [
    "<b>Montando a equação paramétrica da reta que passa pelos pontos $C(3,-1,-1)$, $D(0,m,n)$</b>"
   ]
  },
  {
   "cell_type": "markdown",
   "metadata": {},
   "source": [
    "$\\,  3 = 0 + 3t$<br>\n",
    "$-1 = m  -2t$<br>\n",
    "$-1 = n - t$<br>"
   ]
  },
  {
   "cell_type": "markdown",
   "metadata": {},
   "source": [
    "<b>Achando o valor de $t$</b>"
   ]
  },
  {
   "cell_type": "markdown",
   "metadata": {},
   "source": [
    "$3 = 3t$<br>\n",
    "$\\frac{3}{3} = t$<br>\n",
    "$t = 1$"
   ]
  },
  {
   "cell_type": "markdown",
   "metadata": {},
   "source": [
    "<b>Substituindo o valor de $t$ para achar $m$</b>"
   ]
  },
  {
   "cell_type": "markdown",
   "metadata": {},
   "source": [
    "$-1 = m - 2\\cdot 1$<br>\n",
    "$-1 = m - 2$<br>\n",
    "$-1 + 2 = m $<br>\n",
    "$1 = m$"
   ]
  },
  {
   "cell_type": "markdown",
   "metadata": {},
   "source": [
    "<b>Substituindo o valor de $t$ para achar $n$</b>"
   ]
  },
  {
   "cell_type": "markdown",
   "metadata": {},
   "source": [
    "$-1 = n - 1$<br>\n",
    "$-1 + 1 = n$<br>\n",
    "$n = 0$"
   ]
  },
  {
   "cell_type": "markdown",
   "metadata": {},
   "source": [
    "$m = 1$ e $n = 0$"
   ]
  }
 ],
 "metadata": {
  "kernelspec": {
   "display_name": "Python 3",
   "language": "python",
   "name": "python3"
  },
  "language_info": {
   "codemirror_mode": {
    "name": "ipython",
    "version": 3
   },
   "file_extension": ".py",
   "mimetype": "text/x-python",
   "name": "python",
   "nbconvert_exporter": "python",
   "pygments_lexer": "ipython3",
   "version": "3.6.5"
  }
 },
 "nbformat": 4,
 "nbformat_minor": 2
}
