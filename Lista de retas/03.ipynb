{
 "cells": [
  {
   "cell_type": "markdown",
   "metadata": {},
   "source": [
    "<b>Seja o triângulo de vértices $A(− 1, 4,− 2)$, $B(3,− 3, 6)$,$C(2,− 1, 4)$. Escreva as equações paramétricas da\n",
    "reta que passa pelo ponto médio do lado $AB$ e pelo vértice oposto, $C$.</b>"
   ]
  },
  {
   "cell_type": "markdown",
   "metadata": {},
   "source": [
    "<b>Descobrindo o ponto médio</b>"
   ]
  },
  {
   "cell_type": "markdown",
   "metadata": {},
   "source": [
    "$M(\\frac{-1+3}{2}, \\frac{4-3}{2}, \\frac{-2+6}{2})$"
   ]
  },
  {
   "cell_type": "markdown",
   "metadata": {},
   "source": [
    "$M(1, \\frac{1}{2}, 2)$"
   ]
  },
  {
   "cell_type": "markdown",
   "metadata": {},
   "source": [
    "<b>Achando $\\vec{MC}$</b>"
   ]
  },
  {
   "cell_type": "markdown",
   "metadata": {},
   "source": [
    "$\\vec{MC} = C - M$<br>\n",
    "$\\vec{MC} = (2,-1,4) - (1, \\frac{1}{2}, 2)$<br>\n",
    "$\\vec{MC} = (1, -\\frac{3}{2}, 2)$"
   ]
  },
  {
   "cell_type": "markdown",
   "metadata": {},
   "source": [
    "<b>A reta obedecerá a seguinte regra</b><br><br>\n",
    "$(x,y,z) = (x_1,y_1,z_1) + t(a,b,c)$<br><br>\n",
    "$(x,y,z) = (1, \\frac{1}{2}, 2) + t(1,-\\frac{3}{2},2)$"
   ]
  },
  {
   "cell_type": "markdown",
   "metadata": {},
   "source": [
    "<b>Escrevendo as equações paramétricas</b>"
   ]
  },
  {
   "cell_type": "markdown",
   "metadata": {},
   "source": [
    "$\\left\\{ \\begin{array}{c}\n",
    "x = 1  + t\\\\\n",
    "y = \\frac{1}{2} - \\frac{3t}{2}\\\\\n",
    "z = 2 + 2t\\\\\n",
    "\\end{array}\n",
    "\\right.$"
   ]
  }
 ],
 "metadata": {
  "kernelspec": {
   "display_name": "Python 3",
   "language": "python",
   "name": "python3"
  },
  "language_info": {
   "codemirror_mode": {
    "name": "ipython",
    "version": 3
   },
   "file_extension": ".py",
   "mimetype": "text/x-python",
   "name": "python",
   "nbconvert_exporter": "python",
   "pygments_lexer": "ipython3",
   "version": "3.6.5"
  }
 },
 "nbformat": 4,
 "nbformat_minor": 2
}
