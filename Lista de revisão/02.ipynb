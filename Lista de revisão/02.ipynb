{
 "cells": [
  {
   "cell_type": "markdown",
   "metadata": {},
   "source": [
    "<b>Determine as equações simétricas da reta $r$ que passa por $B(3,1, -7)$ e é simultaneamente ortogonal a </b>"
   ]
  },
  {
   "cell_type": "markdown",
   "metadata": {},
   "source": [
    "$r_1: x = 5 - 2z \\\\ \\,\\,\\,\\,\\,\\,\\,\\,\\, y = 3z - 1$"
   ]
  },
  {
   "cell_type": "markdown",
   "metadata": {},
   "source": [
    "$r_2: x = 3 - t \\\\ \\,\\,\\,\\,\\,\\,\\,\\, y = 2 \\\\ \\,\\,\\,\\,\\,\\,\\,\\, z = 5 + 6t$"
   ]
  },
  {
   "cell_type": "markdown",
   "metadata": {},
   "source": [
    "<b>Achar o vetor diretor da reta $r_1$</b>"
   ]
  },
  {
   "cell_type": "markdown",
   "metadata": {},
   "source": [
    "$\\vec v = (-2, 3, 1)$"
   ]
  },
  {
   "cell_type": "markdown",
   "metadata": {},
   "source": [
    "<b>Achar o vetor diretor da reta $r_2$</b>"
   ]
  },
  {
   "cell_type": "markdown",
   "metadata": {},
   "source": [
    "$\\vec u = (-1, 0, 6)$"
   ]
  },
  {
   "cell_type": "markdown",
   "metadata": {},
   "source": [
    "<b>Fazer o produto vetorial de $\\vec u$ e $\\vec v$</b>"
   ]
  },
  {
   "cell_type": "markdown",
   "metadata": {},
   "source": [
    "$<\\vec v \\,\\,\\,\\,\\, x \\,\\,\\,\\,\\, \\vec u> = (18 - 0, -[-12+1], 0 + 3)$"
   ]
  },
  {
   "cell_type": "markdown",
   "metadata": {},
   "source": [
    "$<\\vec v \\,\\,\\,\\,\\, x \\,\\,\\,\\,\\, \\vec u> = (18, 11, 3) \\rightarrow$ Será o novo vetor diretor da reta $r$"
   ]
  },
  {
   "cell_type": "markdown",
   "metadata": {},
   "source": [
    "<b>Montar a equação simétrica</b>"
   ]
  },
  {
   "cell_type": "markdown",
   "metadata": {},
   "source": [
    "$\\frac{x-3}{18} = \\frac{y - 1}{11} = \\frac{z + 7}{3}$"
   ]
  }
 ],
 "metadata": {
  "kernelspec": {
   "display_name": "Python 3",
   "language": "python",
   "name": "python3"
  },
  "language_info": {
   "codemirror_mode": {
    "name": "ipython",
    "version": 3
   },
   "file_extension": ".py",
   "mimetype": "text/x-python",
   "name": "python",
   "nbconvert_exporter": "python",
   "pygments_lexer": "ipython3",
   "version": "3.6.4"
  }
 },
 "nbformat": 4,
 "nbformat_minor": 2
}
