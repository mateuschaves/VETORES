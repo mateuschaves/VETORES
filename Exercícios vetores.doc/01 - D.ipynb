{
 "cells": [
  {
   "cell_type": "markdown",
   "metadata": {},
   "source": [
    "<b>1) Dados os vetores $\\vec u = (-3,1,2)$, $v = (4,0,-8)$, $w= (6,-1,-4)$, determine:"
   ]
  },
  {
   "cell_type": "markdown",
   "metadata": {},
   "source": [
    "<b>d)</b> $(2\\vec u - 7\\vec w)-(8\\vec v + \\vec u)$."
   ]
  },
  {
   "cell_type": "markdown",
   "metadata": {},
   "source": [
    "<b>Calculando $2\\vec u$ </b><br><br>\n",
    "$2(-3,1,2)$<br><br>\n",
    "$(-6,2,4)$<br><br><br>\n",
    "<b>Calculando $7\\vec w$</b><br><br><br>\n",
    "$7(6,-1,-4)$<br><br>\n",
    "$(42, -7, -28)$<br><br><br>\n",
    "<b>Calculando $8\\vec v$</b><br><br>\n",
    "$8(4,0,-8)$</b><br><br>\n",
    "$(32,8,-64)$<br><br><br>\n",
    "<b>Substituindo $u$, $2\\vec u$ , $7\\vec w$ e $8\\vec v$</b><br><br>\n",
    "$[(-6,2,4) - (6,-1,4)] - [(4,0,-8) + (-3,1,2)]$<br><br>\n",
    "$[(-6 - 6, 2 + 1, 4 - 4)] - [(4 - 3, 0 + 1, -8 + 2)]$<br><br>\n",
    "$(-12, 3, 0) - (1,1,-6)$<br><br>\n",
    "$(-12 - 1, 3 - 1, 0 + 6)$<br><br>\n",
    "$(-13, 2, 6)$<br><br>"
   ]
  }
 ],
 "metadata": {
  "kernelspec": {
   "display_name": "Python 3",
   "language": "python",
   "name": "python3"
  },
  "language_info": {
   "codemirror_mode": {
    "name": "ipython",
    "version": 3
   },
   "file_extension": ".py",
   "mimetype": "text/x-python",
   "name": "python",
   "nbconvert_exporter": "python",
   "pygments_lexer": "ipython3",
   "version": "3.6.4"
  }
 },
 "nbformat": 4,
 "nbformat_minor": 2
}
