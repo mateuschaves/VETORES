{
 "cells": [
  {
   "cell_type": "markdown",
   "metadata": {},
   "source": [
    "<b>1) Dados os vetores $\\vec u = (-3,1,2)$, $v = (4,0,-8)$, $w= (6,-1,-4)$, determine:"
   ]
  },
  {
   "cell_type": "markdown",
   "metadata": {},
   "source": [
    "<b>e)</b> O vetor $\\vec m= (x,y,z)$ tal que $2\\vec u - \\vec v + \\vec m = 7\\vec m + \\vec w$."
   ]
  },
  {
   "cell_type": "markdown",
   "metadata": {},
   "source": [
    "$2(-3,1,2) - (4,0,-8) + m = 7m + (6,-1,-4)$<br><br>\n",
    "$(-6,2,4) - (4,0,-8) + m = 7m + (6,-1,-4)$<br><br>\n",
    "$(-6 - 4, 2 - 0, 4 + 8) + m = 7m + (6,-1,-4)$<br><br>\n",
    "$(-10, 2, 12) + m = 7m + (6,-1,-4)$<br><br>\n",
    "$(-10,2,12) - (6,-1,-4) = 6m$<br><br>\n",
    "$(-10-6, 2 + 1, 12 + 4) = 6m$<br><br>\n",
    "$(-16, 3, 16) = 6m$<br><br>\n",
    "$(-\\frac{16}{6}, \\frac{3}{6}, \\frac{16}{6}) = 6m$<br><br>\n",
    "$(-\\frac{8}{3}, \\frac{1}{2}, \\frac{8}{3}) = m $<br><br>"
   ]
  }
 ],
 "metadata": {
  "kernelspec": {
   "display_name": "Python 3",
   "language": "python",
   "name": "python3"
  },
  "language_info": {
   "codemirror_mode": {
    "name": "ipython",
    "version": 3
   },
   "file_extension": ".py",
   "mimetype": "text/x-python",
   "name": "python",
   "nbconvert_exporter": "python",
   "pygments_lexer": "ipython3",
   "version": "3.6.4"
  }
 },
 "nbformat": 4,
 "nbformat_minor": 2
}
