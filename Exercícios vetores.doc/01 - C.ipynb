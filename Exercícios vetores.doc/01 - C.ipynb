{
 "cells": [
  {
   "cell_type": "markdown",
   "metadata": {},
   "source": [
    "<b>1) Dados os vetores $\\vec u = (-3,1,2)$, $v = (4,0,-8)$, $w= (6,-1,-4)$, determine:"
   ]
  },
  {
   "cell_type": "markdown",
   "metadata": {},
   "source": [
    "<b>c)</b> $5(\\vec v - 4\\vec w)$<br><br>"
   ]
  },
  {
   "cell_type": "markdown",
   "metadata": {},
   "source": [
    "<b>Calculando $4\\vec w$</b>"
   ]
  },
  {
   "cell_type": "markdown",
   "metadata": {},
   "source": [
    "$4(6,-1,-4)$<br><br>\n",
    "$(24,-4,-16)$<br><br><br>\n",
    "\n",
    "<b>Substituindo $\\vec v$ e $4\\vec w$</b><br><br>\n",
    "$5[(4,0,-8) - (24,-4,-16)]$<br><br>\n",
    "$(20,0,-40) - (24,-4,-16)$<br><br>\n",
    "$(20-24,0+4,-40-16)$<br><br>\n",
    "$(-4,4,-56)$<br><br>"
   ]
  }
 ],
 "metadata": {
  "kernelspec": {
   "display_name": "Python 3",
   "language": "python",
   "name": "python3"
  },
  "language_info": {
   "codemirror_mode": {
    "name": "ipython",
    "version": 3
   },
   "file_extension": ".py",
   "mimetype": "text/x-python",
   "name": "python",
   "nbconvert_exporter": "python",
   "pygments_lexer": "ipython3",
   "version": "3.6.4"
  }
 },
 "nbformat": 4,
 "nbformat_minor": 2
}
