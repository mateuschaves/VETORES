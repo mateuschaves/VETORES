{
 "cells": [
  {
   "cell_type": "markdown",
   "metadata": {},
   "source": [
    "<b>1) Dados os vetores $\\vec u = (-3,1,2)$, $v = (4,0,-8)$, $w= (6,-1,-4)$, determine:"
   ]
  },
  {
   "cell_type": "markdown",
   "metadata": {},
   "source": [
    "b)$\\, \\, 6\\vec u + 2\\vec v$<br><br>"
   ]
  },
  {
   "cell_type": "markdown",
   "metadata": {},
   "source": [
    "<b>Calculando $6\\vec u$</b><br><br>\n",
    "$6\\vec u = 6(-3,1,2)$<br><br>\n",
    "$6\\vec u = (-18, 6, 12)$<br><br><br>\n",
    "<b>Calculando $2\\vec v $<b><br><br>\n",
    "$2\\vec v = 2(4,0,-8)$<br><br>\n",
    "$2\\vec v = (8,0,-16)$<br><br>\n",
    "<b>Somando $6\\vec u + 2\\vec v$<br><br>\n",
    "$(-18,6,12)+(8,0,-16)$<br><br>\n",
    "$(-18+8,6+0,12-16)$<br><br>\n",
    "$(10,6,-4)$<br><br>"
   ]
  }
 ],
 "metadata": {
  "kernelspec": {
   "display_name": "Python 3",
   "language": "python",
   "name": "python3"
  },
  "language_info": {
   "codemirror_mode": {
    "name": "ipython",
    "version": 3
   },
   "file_extension": ".py",
   "mimetype": "text/x-python",
   "name": "python",
   "nbconvert_exporter": "python",
   "pygments_lexer": "ipython3",
   "version": "3.6.4"
  }
 },
 "nbformat": 4,
 "nbformat_minor": 2
}
