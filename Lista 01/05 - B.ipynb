{
 "cells": [
  {
   "cell_type": "markdown",
   "metadata": {},
   "source": [
    "<b>5. Encontre a área do paralelogramo determinado pelos vetores $u$ e $v$, respectivamente, abaixo:</b>"
   ]
  },
  {
   "cell_type": "markdown",
   "metadata": {},
   "source": [
    "<b>b) $(2,3,0)$ e $(-1,2,-2)$</b>"
   ]
  },
  {
   "cell_type": "markdown",
   "metadata": {},
   "source": [
    "\n",
    "\n",
    "<b>A área desse paralelogramo é dado pelo módulo do produto vetorial de $v$ e $u$.</b><br><br>\n",
    "$\\begin{bmatrix}2 & 3 & 0\\\\-1 & 2 & -2\\end{bmatrix}$<br><br>\n",
    "$\\vec u \\, x \\, \\vec v = (-6-0, -[-4],7)$<br><br>\n",
    "$\\vec u \\, x \\, \\vec v = (-6, 4, 7)$<br><br><br>\n",
    "<b>Calculando o módulo de $\\vec u \\, x \\, \\vec v $</b><br><br>\n",
    "$A \\, = ||\\, \\vec u \\, x \\, \\vec v \\, || = \\sqrt{(-6)^2 + 4^2 + 7^2}$<br><Br>\n",
    "$A \\, = ||\\, \\vec u \\, x \\, \\vec v \\, || = \\sqrt{36 + 16 + 49}$<br><br>\n",
    "$A \\, = ||\\, \\vec u \\, x \\, \\vec v \\, || = \\sqrt{101}$ unidades de área.<br><br>\n"
   ]
  }
 ],
 "metadata": {
  "kernelspec": {
   "display_name": "Python 3",
   "language": "python",
   "name": "python3"
  },
  "language_info": {
   "codemirror_mode": {
    "name": "ipython",
    "version": 3
   },
   "file_extension": ".py",
   "mimetype": "text/x-python",
   "name": "python",
   "nbconvert_exporter": "python",
   "pygments_lexer": "ipython3",
   "version": "3.6.4"
  }
 },
 "nbformat": 4,
 "nbformat_minor": 2
}
