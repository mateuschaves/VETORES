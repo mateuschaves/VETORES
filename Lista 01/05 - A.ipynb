{
 "cells": [
  {
   "cell_type": "markdown",
   "metadata": {},
   "source": [
    "<b>5. Encontre a área do paralelogramo determinado pelos vetores $u$ e $v$, respectivamente, abaixo:</b>"
   ]
  },
  {
   "cell_type": "markdown",
   "metadata": {},
   "source": [
    "<b>a) $(1,-1,2)$ e $(0,3,1)$</b><br><br>\n",
    "\n",
    "<b>A área desse paralelogramo é dado pelo módulo do produto vetorial de $v$ e $u$.</b><br><br>\n",
    "$\\begin{bmatrix}1 & -1 & 2\\\\0 & 3 & 1\\end{bmatrix}$<br><br>\n",
    "$\\vec u \\, x \\, \\vec v = (-1-6, -[1 - 0],3 - 0)$<br><br>\n",
    "$\\vec u \\, x \\, \\vec v = (-7, -1, 3)$<br><br><br>\n",
    "<b>Calculando o módulo de $\\vec u \\, x \\, \\vec v $</b><br><br>\n",
    "$A \\, = ||\\, \\vec u \\, x \\, \\vec v \\, || = \\sqrt{(-7)^2 + 1^2 + 3^2}$<br><Br>\n",
    "$A \\, = ||\\, \\vec u \\, x \\, \\vec v \\, || = \\sqrt{49 + 1 + 9}$<br><br>\n",
    "$A \\, = ||\\, \\vec u \\, x \\, \\vec v \\, || = \\sqrt{59}$ unidades de área.<br><br>\n"
   ]
  }
 ],
 "metadata": {
  "kernelspec": {
   "display_name": "Python 3",
   "language": "python",
   "name": "python3"
  },
  "language_info": {
   "codemirror_mode": {
    "name": "ipython",
    "version": 3
   },
   "file_extension": ".py",
   "mimetype": "text/x-python",
   "name": "python",
   "nbconvert_exporter": "python",
   "pygments_lexer": "ipython3",
   "version": "3.6.4"
  }
 },
 "nbformat": 4,
 "nbformat_minor": 2
}
