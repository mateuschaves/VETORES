{
 "cells": [
  {
   "cell_type": "markdown",
   "metadata": {},
   "source": [
    "<b>4. Sejam $p = (2,k), q = (3,5)$. Encontre $k$ de forma $p$ e $q$ sejam ortogonais. É possível esse vetores serem paralelos e opostos ? Qual o valor de $k$ para os vetores serem paralelos e de mesmo sentido ? </b>"
   ]
  },
  {
   "cell_type": "markdown",
   "metadata": {},
   "source": [
    "<b>Montando uma matriz e calculando sua determinante, temos que: </b><br><br>\n",
    "$\\begin{bmatrix}2 & k\\\\3 & 5\\end{bmatrix}$<br><br>\n",
    "\n",
    "$10 - 3k = 0$<br><br>\n",
    "$10 = 3k$<br><br>\n",
    "$\\frac{10}{3} = k$\n"
   ]
  }
 ],
 "metadata": {
  "kernelspec": {
   "display_name": "Python 3",
   "language": "python",
   "name": "python3"
  },
  "language_info": {
   "codemirror_mode": {
    "name": "ipython",
    "version": 3
   },
   "file_extension": ".py",
   "mimetype": "text/x-python",
   "name": "python",
   "nbconvert_exporter": "python",
   "pygments_lexer": "ipython3",
   "version": "3.6.4"
  }
 },
 "nbformat": 4,
 "nbformat_minor": 2
}
