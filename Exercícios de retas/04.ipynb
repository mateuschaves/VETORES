{
 "cells": [
  {
   "cell_type": "markdown",
   "metadata": {},
   "source": [
    "<b>Descreva a equação paramétrica da reta que passa por $A(3,-1,-2)$ e $B(1,2,4)$.</b>"
   ]
  },
  {
   "cell_type": "markdown",
   "metadata": {},
   "source": [
    "<b>Encontrar o vetor $\\vec {AB}$</b><br><br>\n",
    "$\\vec {AB} = B - A$<br><br>\n",
    "$\\vec {AB} = (1,2,4) - (3,-1,-2)$<br><br>\n",
    "$\\vec {AB} = (-2, 3, 6)$<br><br>\n",
    "\n",
    "<b>Equação vetorial da reta</b><br><br>\n",
    "\n",
    "$(x,y,z) = (x_1,y_1,z_1) + t(a,b,c)$<br><br>\n",
    "<b>Substituindo $(x_1,y_1,z_1)$ por A e $(a,b,c)$ por $\\vec {AB}$ </b><br><br>\n",
    "$(x,y,z) = (3,-1,-2) + t(-2,3,6)$<br><br>\n",
    "\n",
    "<b>Logo temos que a equação paramétrica da reta é dada por</b><br><br>\n",
    "\n",
    "$x  =  3 - 2t$<br><br>\n",
    "$y  =  -1 + 3t$<br><br>\n",
    "$z  =  -2 + 6t$<br><br>"
   ]
  }
 ],
 "metadata": {
  "kernelspec": {
   "display_name": "Python 3",
   "language": "python",
   "name": "python3"
  },
  "language_info": {
   "codemirror_mode": {
    "name": "ipython",
    "version": 3
   },
   "file_extension": ".py",
   "mimetype": "text/x-python",
   "name": "python",
   "nbconvert_exporter": "python",
   "pygments_lexer": "ipython3",
   "version": "3.6.4"
  }
 },
 "nbformat": 4,
 "nbformat_minor": 2
}
