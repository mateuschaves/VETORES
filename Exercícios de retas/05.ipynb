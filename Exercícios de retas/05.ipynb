{
 "cells": [
  {
   "cell_type": "markdown",
   "metadata": {},
   "source": [
    "<b>Determine a equação paramétrica do segmento de reta $A(3,-1,-2)$ e $B(1,2,4)$</b><br><br>\n",
    "$x = 3 - 2t$<br>\n",
    "$y = -1 + 3t$<br>\n",
    "$z = -2 + 6t$<br>"
   ]
  },
  {
   "cell_type": "markdown",
   "metadata": {},
   "source": [
    "<b>Achar o valor de $t$ utilizando uma coordenada do ponto $A$</b>"
   ]
  },
  {
   "cell_type": "markdown",
   "metadata": {},
   "source": [
    "$3 = 3 - 2t$<br>\n",
    "$0 = -2t$<br>\n",
    "$\\frac {0}{2} = t$<br>\n",
    "$t = 0$<br>"
   ]
  },
  {
   "cell_type": "markdown",
   "metadata": {},
   "source": [
    "<b>Achar o valor de $t$ utilizando uma coordenada do ponto $B$</b>\n"
   ]
  },
  {
   "cell_type": "markdown",
   "metadata": {},
   "source": [
    "$1 = 3 - 2t$<br>\n",
    "$1 - 3 = -2t$<br>\n",
    "$-2 = -2t$<br>\n",
    "$\\frac {-2}{-2} = t$<br>\n",
    "$1 = t$"
   ]
  },
  {
   "cell_type": "markdown",
   "metadata": {},
   "source": [
    "<b>Resposta final</b>"
   ]
  },
  {
   "cell_type": "markdown",
   "metadata": {},
   "source": [
    "$$\\left\\{ \\begin{array}{c}\n",
    "x = 3 - 2t\\\\\n",
    "y = -1 + 3t\\\\\n",
    "z = -2 + 6t\\\\\n",
    "\\end{array}\n",
    "\\right.$$\n",
    "\n",
    "\n",
    "$$t \\in [0,1]$$\n"
   ]
  }
 ],
 "metadata": {
  "kernelspec": {
   "display_name": "Python 3",
   "language": "python",
   "name": "python3"
  },
  "language_info": {
   "codemirror_mode": {
    "name": "ipython",
    "version": 3
   },
   "file_extension": ".py",
   "mimetype": "text/x-python",
   "name": "python",
   "nbconvert_exporter": "python",
   "pygments_lexer": "ipython3",
   "version": "3.6.4"
  }
 },
 "nbformat": 4,
 "nbformat_minor": 1
}
