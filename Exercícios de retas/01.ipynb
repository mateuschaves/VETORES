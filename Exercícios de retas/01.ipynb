{
 "cells": [
  {
   "cell_type": "markdown",
   "metadata": {},
   "source": [
    "<b>Seja a equação paramétrica dada da reta, encontre dois pontos de $r$ de parâmetros $t = 1$ e $t = 4$ respectivamente.</b>"
   ]
  },
  {
   "cell_type": "markdown",
   "metadata": {},
   "source": [
    "$x = 2 + t$<br>\n",
    "$y = 3 - 2t$<br>\n",
    "$z = -4 + 3t$<br>"
   ]
  },
  {
   "cell_type": "markdown",
   "metadata": {},
   "source": [
    "<b>Substituindo  $t = 1$</b>"
   ]
  },
  {
   "cell_type": "markdown",
   "metadata": {},
   "source": [
    "$x = 2 + 1 \\Rightarrow x = 3 $<br>\n",
    "$y = 3 - 2\\cdot 1 \\Rightarrow y = 1$<br>\n",
    "$z = -4 + 3 \\cdot 1 \\Rightarrow z = -1$<br>\n",
    "\n",
    "<b>Ponto A </b><br><br>\n",
    "$(3,1,-1)$\n",
    "\n",
    "<b>Substituindo $t = 4$</b><br><br>\n",
    "\n",
    "$x = 2 + 4 \\Rightarrow x = 6$<br>\n",
    "$y = 3 - 2 \\cdot 4 \\Rightarrow y = -5 $<br>\n",
    "$z = -4 + 3 \\cdot 4 \\Rightarrow z = 8$<br>\n",
    "\n",
    "<b>Ponto B</b><br><br>\n",
    "\n",
    "$(6,-5,8)$\n"
   ]
  }
 ],
 "metadata": {
  "kernelspec": {
   "display_name": "Python 3",
   "language": "python",
   "name": "python3"
  },
  "language_info": {
   "codemirror_mode": {
    "name": "ipython",
    "version": 3
   },
   "file_extension": ".py",
   "mimetype": "text/x-python",
   "name": "python",
   "nbconvert_exporter": "python",
   "pygments_lexer": "ipython3",
   "version": "3.6.5"
  }
 },
 "nbformat": 4,
 "nbformat_minor": 2
}
