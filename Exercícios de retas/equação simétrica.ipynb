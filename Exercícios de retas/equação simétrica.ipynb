{
 "cells": [
  {
   "cell_type": "markdown",
   "metadata": {},
   "source": [
    "<b>Da equação paramétricas das retas temos que</b><br><br>\n",
    "$x = x_1 + at$<br>\n",
    "$y = y_1 + bt$<br>\n",
    "$z = z_1 + ct$<br><br><br>\n",
    "<b>Isolando o $t$ em cada uma temos</b><br>"
   ]
  },
  {
   "cell_type": "markdown",
   "metadata": {},
   "source": [
    "$ \\frac {x - x_1}{a} = t$<br><br>\n",
    "$ \\frac {y - y_1}{a} = t$<br><br>\n",
    "$ \\frac {z - z_1}{a} = t$<br><br>"
   ]
  },
  {
   "cell_type": "markdown",
   "metadata": {},
   "source": [
    "<b>É possível afirmar então que</b><br><br>\n",
    "$\\frac {x - x_1}{a} =   \\frac {y - y_1}{a} =  \\frac {z - z_1}{a}$"
   ]
  }
 ],
 "metadata": {
  "kernelspec": {
   "display_name": "Python 3",
   "language": "python",
   "name": "python3"
  },
  "language_info": {
   "codemirror_mode": {
    "name": "ipython",
    "version": 3
   },
   "file_extension": ".py",
   "mimetype": "text/x-python",
   "name": "python",
   "nbconvert_exporter": "python",
   "pygments_lexer": "ipython3",
   "version": "3.6.5"
  }
 },
 "nbformat": 4,
 "nbformat_minor": 2
}
