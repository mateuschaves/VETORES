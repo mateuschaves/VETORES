{
 "cells": [
  {
   "cell_type": "markdown",
   "metadata": {},
   "source": [
    "<b>Escreva a equação simétrica da reta que passa por $A(3,0,-5)$ e é paralela ao vetor $\\vec v(2,2,-1)$</b>"
   ]
  },
  {
   "cell_type": "markdown",
   "metadata": {},
   "source": [
    "<b>Equação simétrica da reta</b><br><br>\n",
    "$\\frac {x - x_1}{a} =   \\frac {y - y_1}{a} =  \\frac {z - z_1}{a}$"
   ]
  },
  {
   "cell_type": "markdown",
   "metadata": {},
   "source": [
    "<b>Substituindo, temos</b><br><br>\n",
    "$\\frac {x - 3}{2} = \\frac {y - 0}{2} = \\frac {z - (-5)}{-1}$<br><br>\n",
    "$\\frac {x - 3}{2} = \\frac {y}{2} = \\frac {z + 5}{-1}$"
   ]
  }
 ],
 "metadata": {
  "kernelspec": {
   "display_name": "Python 3",
   "language": "python",
   "name": "python3"
  },
  "language_info": {
   "codemirror_mode": {
    "name": "ipython",
    "version": 3
   },
   "file_extension": ".py",
   "mimetype": "text/x-python",
   "name": "python",
   "nbconvert_exporter": "python",
   "pygments_lexer": "ipython3",
   "version": "3.6.5"
  }
 },
 "nbformat": 4,
 "nbformat_minor": 2
}
