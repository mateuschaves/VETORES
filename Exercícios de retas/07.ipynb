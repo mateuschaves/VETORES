{
 "cells": [
  {
   "cell_type": "markdown",
   "metadata": {},
   "source": [
    "<b>Dada a equação simétrica da reta abaixo, determinar o ponto que possui:</b><br><br>\n",
    "$\\frac {x-1}{2} = \\frac {y+3}{-1} = \\frac{z}{4}$<br><br>\n",
    "<b>a) abscissa 5<br><br>\n",
    "\n"
   ]
  },
  {
   "cell_type": "markdown",
   "metadata": {},
   "source": [
    "<b>a)</b><br><br>\n",
    "<b>Achando o valor de $y$</b><br><br>\n",
    "$\\frac{5-1}{2} = \\frac {y+3}{-1}$<br><br>\n",
    "$\\frac{4}{2} = \\frac {y+3}{-1}$<br><br>\n",
    "$ 2 = \\frac {y + 3}{-1}$<br><br>\n",
    "$-2 = y + 3$<br><br>\n",
    "$-5 = y$<br><br>\n",
    "<b>Achando o valor de $z$</b><br><br>\n",
    "$2 = \\frac {z}{4}$<br><br>\n",
    "$8 = z$<br><br><br>\n",
    "\n",
    "<b>Pares ordenados</b><br><br>\n",
    "$(5,-5,8)$"
   ]
  }
 ],
 "metadata": {
  "kernelspec": {
   "display_name": "Python 3",
   "language": "python",
   "name": "python3"
  },
  "language_info": {
   "codemirror_mode": {
    "name": "ipython",
    "version": 3
   },
   "file_extension": ".py",
   "mimetype": "text/x-python",
   "name": "python",
   "nbconvert_exporter": "python",
   "pygments_lexer": "ipython3",
   "version": "3.6.5"
  }
 },
 "nbformat": 4,
 "nbformat_minor": 2
}
