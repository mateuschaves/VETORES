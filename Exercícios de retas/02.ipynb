{
 "cells": [
  {
   "cell_type": "markdown",
   "metadata": {},
   "source": [
    "<b>Apartir da equação paramétrica dada, determine o ponto cuja abscissa é 4</b>"
   ]
  },
  {
   "cell_type": "markdown",
   "metadata": {},
   "source": [
    "$ x = 2 + t$<br>\n",
    "$ y = 3 - 2t$<br>\n",
    "$ z = -4 + 3t$<br>"
   ]
  },
  {
   "cell_type": "markdown",
   "metadata": {},
   "source": [
    "<b>Se a abscissa é 4, ou seja x = 4, podemos substituir e achar o valor de $t$</b>"
   ]
  },
  {
   "cell_type": "markdown",
   "metadata": {},
   "source": [
    "$4 = 2 + t$<br><br>\n",
    "$2 = t$<br><br>\n",
    "<b>Agora sabendo que $t = 2$, podemos substitui-lo em $y$ e $z$</b><br><br>"
   ]
  },
  {
   "cell_type": "markdown",
   "metadata": {},
   "source": [
    "$y = 3 - 2 \\cdot 2$<br>\n",
    "$z = -4 + 3 \\cdot 2$<br>"
   ]
  },
  {
   "cell_type": "markdown",
   "metadata": {},
   "source": [
    "$y = -1$<br>\n",
    "$z = 2$<br>\n",
    "\n",
    "<b>Ponto</b><br>\n",
    "$(4,-1,2)$"
   ]
  }
 ],
 "metadata": {
  "kernelspec": {
   "display_name": "Python 3",
   "language": "python",
   "name": "python3"
  },
  "language_info": {
   "codemirror_mode": {
    "name": "ipython",
    "version": 3
   },
   "file_extension": ".py",
   "mimetype": "text/x-python",
   "name": "python",
   "nbconvert_exporter": "python",
   "pygments_lexer": "ipython3",
   "version": "3.6.4"
  }
 },
 "nbformat": 4,
 "nbformat_minor": 2
}
