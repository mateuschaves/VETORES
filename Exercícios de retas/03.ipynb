{
 "cells": [
  {
   "cell_type": "markdown",
   "metadata": {},
   "source": [
    "<b>Escreva a equação paramétrica da reta $s$ que passa por $G(5,2,-4)$, e é paralela a reta $r$.</b>"
   ]
  },
  {
   "cell_type": "markdown",
   "metadata": {},
   "source": [
    "<b>Equação paramétrica da reta $r$</b><br><br>\n",
    "$x = 2 + t$<br>\n",
    "$y = 3 - 2t$<br>\n",
    "$z = -4 + 3t$<br>"
   ]
  },
  {
   "cell_type": "markdown",
   "metadata": {},
   "source": [
    "<b>Achar o vetor da reta $r$</b><br><br>\n",
    "\n",
    "$\\vec v \\, (1, -2, 3) $"
   ]
  },
  {
   "cell_type": "markdown",
   "metadata": {},
   "source": [
    "<b>Equação paramétrica da reta $g$</b><br><br>\n",
    "\n",
    "$x = 5 + t$<br>\n",
    "$y = 2 - 2t$<br>\n",
    "$z = -4 + 3t$<br>"
   ]
  }
 ],
 "metadata": {
  "kernelspec": {
   "display_name": "Python 3",
   "language": "python",
   "name": "python3"
  },
  "language_info": {
   "codemirror_mode": {
    "name": "ipython",
    "version": 3
   },
   "file_extension": ".py",
   "mimetype": "text/x-python",
   "name": "python",
   "nbconvert_exporter": "python",
   "pygments_lexer": "ipython3",
   "version": "3.6.4"
  }
 },
 "nbformat": 4,
 "nbformat_minor": 2
}
