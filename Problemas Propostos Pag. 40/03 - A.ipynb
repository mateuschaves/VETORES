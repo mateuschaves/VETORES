{
 "cells": [
  {
   "cell_type": "markdown",
   "metadata": {},
   "source": [
    "<b>3. Dados os pontos $A(-1,3)$, $B(2,5)$, $C(3,-1)$ e $O(0,0)$. Calcular"
   ]
  },
  {
   "cell_type": "markdown",
   "metadata": {},
   "source": [
    "<b>a)</b> $\\vec OA - \\vec AB$"
   ]
  },
  {
   "cell_type": "markdown",
   "metadata": {},
   "source": [
    "$[(-1,3)-(0,0)] - [(2,5) - (-1,3)]$<br><br>\n",
    "$[(-1-0,3-0)]-[(2+1,5-3)]$<br><br>\n",
    "$(-1,3)-(3,2)$<br><br>\n",
    "$(-1-3, 3-2)$<br><br>\n",
    "$(-4, 1)$<br><br>"
   ]
  }
 ],
 "metadata": {
  "kernelspec": {
   "display_name": "Python 3",
   "language": "python",
   "name": "python3"
  },
  "language_info": {
   "codemirror_mode": {
    "name": "ipython",
    "version": 3
   },
   "file_extension": ".py",
   "mimetype": "text/x-python",
   "name": "python",
   "nbconvert_exporter": "python",
   "pygments_lexer": "ipython3",
   "version": "3.6.4"
  }
 },
 "nbformat": 4,
 "nbformat_minor": 2
}
