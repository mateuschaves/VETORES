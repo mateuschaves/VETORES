{
 "cells": [
  {
   "cell_type": "markdown",
   "metadata": {},
   "source": [
    "<b>Dados os vetores $\\vec u = 2\\vec i - 3\\vec j$, $\\vec v = \\vec i - \\vec j$ e $\\vec w = -2\\vec i + \\vec j$, determinar </b>"
   ]
  },
  {
   "cell_type": "markdown",
   "metadata": {},
   "source": [
    "1. a) $2\\vec u - \\vec v$"
   ]
  },
  {
   "cell_type": "markdown",
   "metadata": {},
   "source": [
    "$2\\vec u - \\vec v = 2\\cdot(2, -3) - (1, -1)$<br>\n",
    "$2\\vec u - \\vec v =(4,-6)-(1,-1)$<br>\n",
    "$2\\vec u - \\vec v =(4-1,-6+1)$<br>\n",
    "$2\\vec u - \\vec v =(3,-5)$<br>"
   ]
  }
 ],
 "metadata": {
  "kernelspec": {
   "display_name": "Python 3",
   "language": "python",
   "name": "python3"
  },
  "language_info": {
   "codemirror_mode": {
    "name": "ipython",
    "version": 3
   },
   "file_extension": ".py",
   "mimetype": "text/x-python",
   "name": "python",
   "nbconvert_exporter": "python",
   "pygments_lexer": "ipython3",
   "version": "3.6.4"
  }
 },
 "nbformat": 4,
 "nbformat_minor": 2
}
