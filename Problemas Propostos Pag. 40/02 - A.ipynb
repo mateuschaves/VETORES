{
 "cells": [
  {
   "cell_type": "markdown",
   "metadata": {},
   "source": [
    "<b>2. Dados os vetores $\\vec u = (3,-1)$ e $\\vec v = (-1,2)$, determinar o vetor $\\vec x$ tal que<b>"
   ]
  },
  {
   "cell_type": "markdown",
   "metadata": {},
   "source": [
    "<b>a)</b> $\\, \\, 4(\\vec u - \\vec v)+\\frac{1}{3} \\vec x = 2 \\vec u - \\vec x$"
   ]
  },
  {
   "cell_type": "markdown",
   "metadata": {},
   "source": [
    "<b>Calculando $\\vec u - \\vec v$<br><br>\n",
    "$(3,-1)-(-1,2)$<br><br>\n",
    "$(3+1,-1-2)$<br><br>\n",
    "$(4,-3)$<br><br><br>\n",
    "<b>Calculando $\\, 4(\\vec u - \\vec v)$<br><br>\n",
    "$4(\\vec u - \\vec v) = 4(4,-3)$<br><br>\n",
    "$4(\\vec u - \\vec v) = (16, -12)$<br><br><br>\n",
    "    <b>Substituindo $\\vec u$</b><br><br>\n",
    "$(16,-12) + \\frac{1}{3}\\vec x = 2(3,-1)-\\vec x$<br><br>\n",
    "$(16,-12) + \\frac{1}{3}\\vec x = (6,-2)-\\vec x$<br><br>\n",
    "$(16,-12) - (6,-2) = -\\vec x - \\frac{1}{3}\\vec x$<br><br> \n",
    "$(16-6, -12 + 2)) = -\\vec x - \\frac{1}{3}\\vec x$<br><br>\n",
    "$(10, 10) = - \\vec x - \\frac{1}{3}\\vec x$<br><br><br>\n",
    "<b>Tirando o mmc pra achar $-\\frac{1}{3}\\vec x - \\vec x$<br><br>\n",
    "$(10, 10) = - \\frac{4}{3}\\vec x$<br><br>\n",
    "$(30, 30) = -4\\vec x$<br><br>\n",
    "$(-\\frac{30}{4}),-\\frac{30}{4}) = - \\vec x$<br><br>\n",
    "$\\vec x = (-\\frac{15}{2}, \\frac{15}{2})$<br><br>\n"
   ]
  }
 ],
 "metadata": {
  "kernelspec": {
   "display_name": "Python 3",
   "language": "python",
   "name": "python3"
  },
  "language_info": {
   "codemirror_mode": {
    "name": "ipython",
    "version": 3
   },
   "file_extension": ".py",
   "mimetype": "text/x-python",
   "name": "python",
   "nbconvert_exporter": "python",
   "pygments_lexer": "ipython3",
   "version": "3.6.4"
  }
 },
 "nbformat": 4,
 "nbformat_minor": 2
}
