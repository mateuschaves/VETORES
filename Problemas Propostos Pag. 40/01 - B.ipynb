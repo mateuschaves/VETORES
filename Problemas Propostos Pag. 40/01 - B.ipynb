{
 "cells": [
  {
   "cell_type": "markdown",
   "metadata": {},
   "source": [
    "<b>Dados os vetores $\\vec u = 2\\vec i - 3\\vec j$, $\\vec v = \\vec i - \\vec j$ e $\\vec w = -2\\vec i + \\vec j$, determinar </b>"
   ]
  },
  {
   "cell_type": "markdown",
   "metadata": {},
   "source": [
    "<b>1.</b>  b $\\, \\, \\vec v - \\vec u + 2\\vec w$"
   ]
  },
  {
   "cell_type": "markdown",
   "metadata": {},
   "source": [
    "$\\vec v - \\vec u + 2\\vec w = (1,-1)-(2,-3)+2(-2,1)$<br><br>\n",
    "$\\vec v - \\vec u + 2\\vec w = (1-2,-1+3)+(-4,2)$<br><br>\n",
    "$\\vec v - \\vec u + 2\\vec w = (-1,2)+(-4,2)$<br><br>\n",
    "$\\vec v - \\vec u + 2\\vec w = (-1-4,2+2)$<br><br>\n",
    "$\\vec v - \\vec u + 2\\vec w = (-5,5)$<br><br>"
   ]
  }
 ],
 "metadata": {
  "kernelspec": {
   "display_name": "Python 3",
   "language": "python",
   "name": "python3"
  },
  "language_info": {
   "codemirror_mode": {
    "name": "ipython",
    "version": 3
   },
   "file_extension": ".py",
   "mimetype": "text/x-python",
   "name": "python",
   "nbconvert_exporter": "python",
   "pygments_lexer": "ipython3",
   "version": "3.6.4"
  }
 },
 "nbformat": 4,
 "nbformat_minor": 2
}
