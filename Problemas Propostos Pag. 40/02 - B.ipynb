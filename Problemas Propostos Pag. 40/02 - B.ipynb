{
 "cells": [
  {
   "cell_type": "markdown",
   "metadata": {},
   "source": [
    "<b>Dados os vetores $\\vec u = (3,-1)$ e $\\vec v = (-1,2)$, determinar o vetor $\\vec x$ tal que<b>"
   ]
  },
  {
   "cell_type": "markdown",
   "metadata": {},
   "source": [
    "<b>b)</b> $3\\vec x - (2\\vec v - \\vec u) = 2(4\\vec x - 3\\vec u)$<br><br>"
   ]
  },
  {
   "cell_type": "markdown",
   "metadata": {},
   "source": [
    "<b>Calculando $2\\vec v - \\vec u$</b>"
   ]
  },
  {
   "cell_type": "markdown",
   "metadata": {},
   "source": [
    "$2(-1,2) - (3,-1)$<br><br>\n",
    "$(-2,4) - (3,-1)$<br><br>\n",
    "$(-2-3, 4+1)$<br><br>\n",
    "$(-5, 5)$<br><br><br>\n",
    "<b>Substituindo $2\\vec v - \\vec u$ e $\\vec u$</b><br><br>\n",
    "$3\\vec x - (-5,5) = 2(4\\vec x - 3(3,-1))$<br><br>\n",
    "$3\\vec x - (-5,5) = 2(4\\vec x -  (9, -3))$<br><br>\n",
    "$3\\vec x - (-5,5) = 8\\vec x - (18, -6)$<br><br>\n",
    "$3\\vec x - 8\\vec x = (-5,5) - (18,-6)$<br><br>\n",
    "$-5\\vec x = (-5-18,5+6)$<br><br>\n",
    "$-5\\vec x = (-23,11)$<br><br>\n",
    "$5\\vec x = (23,-11)$<br><br>\n",
    "$\\vec x = (\\frac{23}{5}, -\\frac{11}{5})$<br><br>"
   ]
  }
 ],
 "metadata": {
  "kernelspec": {
   "display_name": "Python 3",
   "language": "python",
   "name": "python3"
  },
  "language_info": {
   "codemirror_mode": {
    "name": "ipython",
    "version": 3
   },
   "file_extension": ".py",
   "mimetype": "text/x-python",
   "name": "python",
   "nbconvert_exporter": "python",
   "pygments_lexer": "ipython3",
   "version": "3.6.4"
  }
 },
 "nbformat": 4,
 "nbformat_minor": 2
}
