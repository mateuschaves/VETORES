{
 "cells": [
  {
   "cell_type": "markdown",
   "metadata": {},
   "source": [
    "<b>Determinar o ponto de intersecção da reta $r$, com o plano $\\pi$</b>"
   ]
  },
  {
   "cell_type": "markdown",
   "metadata": {},
   "source": [
    "$r:x = -1 + 2t\\\\ \\,\\,\\,\\,\\,\\,\\, y = 5 + 3t \\\\ \\,\\,\\,\\,\\,\\,\\, z = 3 - t$"
   ]
  },
  {
   "cell_type": "markdown",
   "metadata": {},
   "source": [
    "$\\pi: 2x - y + 3z - 4 = 0$"
   ]
  },
  {
   "cell_type": "markdown",
   "metadata": {},
   "source": [
    "<b>Substituir os valores de $x, y $ e $z$ na equação do plano $\\pi$</b>"
   ]
  },
  {
   "cell_type": "markdown",
   "metadata": {},
   "source": [
    "$2(-1 + 2t) - (5 + 3t) + 3(3 - t) - 4 = 0$"
   ]
  },
  {
   "cell_type": "markdown",
   "metadata": {},
   "source": [
    "$-2 + 4t -5 - 3t + 9 - 3t - 4 = 0$"
   ]
  },
  {
   "cell_type": "markdown",
   "metadata": {},
   "source": [
    "$-2t -2 = 0$"
   ]
  },
  {
   "cell_type": "markdown",
   "metadata": {},
   "source": [
    "$-2t = 2$"
   ]
  },
  {
   "cell_type": "markdown",
   "metadata": {},
   "source": [
    "$t = \\frac{2}{-2}$"
   ]
  },
  {
   "cell_type": "markdown",
   "metadata": {},
   "source": [
    "$t = -1$"
   ]
  },
  {
   "cell_type": "markdown",
   "metadata": {},
   "source": [
    "<b>Substituir o valor de $t = -1$ na equação paramétrica da reta $r$ para achar $x, y $ e $z$</b>"
   ]
  },
  {
   "cell_type": "markdown",
   "metadata": {},
   "source": [
    "$x = -1 + 2(-1) \\,\\,\\,\\,\\,\\,\\, \\rightarrow \\,\\,\\,\\,\\,\\,\\, -3$"
   ]
  },
  {
   "cell_type": "markdown",
   "metadata": {},
   "source": [
    "$y = 5 + 3(-1) \\,\\,\\,\\,\\,\\,\\, \\rightarrow \\,\\,\\,\\,\\,\\,\\, 2$"
   ]
  },
  {
   "cell_type": "markdown",
   "metadata": {},
   "source": [
    "$z = 3 -(-1) \\,\\,\\,\\,\\,\\,\\, \\rightarrow \\,\\,\\,\\,\\,\\,\\, 4$"
   ]
  },
  {
   "cell_type": "markdown",
   "metadata": {},
   "source": [
    "<b>O ponto de intersecção será $P(-3, 2, 4)$</b>"
   ]
  }
 ],
 "metadata": {
  "kernelspec": {
   "display_name": "Python 3",
   "language": "python",
   "name": "python3"
  },
  "language_info": {
   "codemirror_mode": {
    "name": "ipython",
    "version": 3
   },
   "file_extension": ".py",
   "mimetype": "text/x-python",
   "name": "python",
   "nbconvert_exporter": "python",
   "pygments_lexer": "ipython3",
   "version": "3.6.5"
  }
 },
 "nbformat": 4,
 "nbformat_minor": 2
}
