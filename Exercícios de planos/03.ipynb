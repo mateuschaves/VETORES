{
 "cells": [
  {
   "cell_type": "markdown",
   "metadata": {},
   "source": [
    "<b>A reta $r$ dado abaixo, é ortogonal ao plano que passa pelo ponto $A(2,1,-2)$, determine uma equação geral do plano e represente-o graficamente.</b>"
   ]
  },
  {
   "cell_type": "markdown",
   "metadata": {},
   "source": [
    "$r: x = 5 + 3t\\\\ \\,\\,\\,\\,\\,\\, y = -4 + 2t \\\\ \\,\\,\\,\\,\\,\\, z = 1 + t$"
   ]
  },
  {
   "cell_type": "markdown",
   "metadata": {},
   "source": [
    "$A(2,1,-2)$"
   ]
  },
  {
   "cell_type": "markdown",
   "metadata": {},
   "source": [
    "<b>Achar o vetor diretor da reta $r$</b>"
   ]
  },
  {
   "cell_type": "markdown",
   "metadata": {},
   "source": [
    "$\\vec v  = (3, 2, 1)$"
   ]
  },
  {
   "cell_type": "markdown",
   "metadata": {},
   "source": [
    "<b>O vetor diretor encontrado será o $\\vec n$ do plano, substituindo os valores encontrados na equação do plano $\\vec n \\cdot (x - x_1, y - y_1, z - z_1) = 0$, temos</b>"
   ]
  },
  {
   "cell_type": "markdown",
   "metadata": {},
   "source": [
    "$(3,2,1) \\cdot (x -2, y - 1, z + 2) = 0$"
   ]
  },
  {
   "cell_type": "markdown",
   "metadata": {},
   "source": [
    "$3x - 6 + 2y - 2 + z + 2 = 0$"
   ]
  },
  {
   "cell_type": "markdown",
   "metadata": {},
   "source": [
    "$3x + 2y + z - 6 = 0$"
   ]
  }
 ],
 "metadata": {
  "kernelspec": {
   "display_name": "Python 3",
   "language": "python",
   "name": "python3"
  },
  "language_info": {
   "codemirror_mode": {
    "name": "ipython",
    "version": 3
   },
   "file_extension": ".py",
   "mimetype": "text/x-python",
   "name": "python",
   "nbconvert_exporter": "python",
   "pygments_lexer": "ipython3",
   "version": "3.6.5"
  }
 },
 "nbformat": 4,
 "nbformat_minor": 2
}
